{
 "cells": [
  {
   "cell_type": "markdown",
   "id": "229a536d",
   "metadata": {
    "origin_pos": 1
   },
   "source": [
    "# Automatic Differentiation\n",
    ":label:`sec_autograd`\n",
    "\n",
    "Recall from :numref:`sec_calculus` \n",
    "that calculating derivatives is the crucial step\n",
    "in all of the optimization algorithms\n",
    "that we will use to train deep networks.\n",
    "While the calculations are straightforward,\n",
    "working them out by hand can be tedious and error-prone, \n",
    "and this problem only grows\n",
    "as our models become more complex.\n",
    "\n",
    "Fortunately all modern deep learning frameworks\n",
    "take this work off of our plates\n",
    "by offering *automatic differentiation*\n",
    "(often shortened to *autograd*). \n",
    "As we pass data through each successive function,\n",
    "the framework builds a *computational graph* \n",
    "that tracks how each value depends on others.\n",
    "To calculate derivatives, \n",
    "automatic differentiation packages \n",
    "then work backwards through this graph\n",
    "applying the chain rule. \n",
    "The computational algorithm for applying the chain rule\n",
    "this fashion is called *backpropagation*.\n",
    "\n",
    "While autograd libraries become \n",
    "hot concerns over the past decade,\n",
    "they have a long history. \n",
    "In fact the earliest references to autograd\n",
    "date back over half of a century :cite:`Wengert.1964`.\n",
    "The core ideas behind modern backpropagation\n",
    "date to a PhD thesis from 1980 :cite:`Speelpenning.1980`\n",
    "and were further developed in the late 1980s :cite:`Griewank.1989`.\n",
    "While backpropagation has become the default method \n",
    "for computing gradients, it's not the only option. \n",
    "For instance, the Julia programming language employs \n",
    "forward propagation :cite:`Revels.Lubin.Papamarkou.2016`. \n",
    "Before exploring methods, \n",
    "let's first master the autograd package.\n",
    "\n",
    "\n",
    "## A Simple Function\n",
    "\n",
    "Let's assume that we are interested\n",
    "in (**differentiating the function\n",
    "$y = 2\\mathbf{x}^{\\top}\\mathbf{x}$\n",
    "with respect to the column vector $\\mathbf{x}$.**)\n",
    "To start, we assign `x` an initial value.\n"
   ]
  },
  {
   "cell_type": "code",
   "execution_count": 1,
   "id": "c919df19",
   "metadata": {
    "attributes": {
     "classes": [],
     "id": "",
     "n": "7"
    },
    "execution": {
     "iopub.execute_input": "2022-12-14T05:08:29.470927Z",
     "iopub.status.busy": "2022-12-14T05:08:29.470621Z",
     "iopub.status.idle": "2022-12-14T05:08:30.875517Z",
     "shell.execute_reply": "2022-12-14T05:08:30.874656Z"
    },
    "origin_pos": 3,
    "tab": [
     "pytorch"
    ]
   },
   "outputs": [
    {
     "data": {
      "text/plain": [
       "tensor([0., 1., 2., 3.])"
      ]
     },
     "execution_count": 1,
     "metadata": {},
     "output_type": "execute_result"
    }
   ],
   "source": [
    "import torch\n",
    "\n",
    "x = torch.arange(4.0)\n",
    "x"
   ]
  },
  {
   "cell_type": "markdown",
   "id": "25eb5ceb",
   "metadata": {
    "origin_pos": 6,
    "tab": [
     "pytorch"
    ]
   },
   "source": [
    "[**Before we calculate the gradient\n",
    "of $y$ with respect to $\\mathbf{x}$,\n",
    "we need a place to store it.**]\n",
    "In general, we avoid allocating new memory\n",
    "every time we take a derivative \n",
    "because deep learning requires \n",
    "successively computing derivatives\n",
    "with respect to the same parameters\n",
    "thousands or millions of times,\n",
    "and we might risk running out of memory.\n",
    "Note that the gradient of a scalar-valued function\n",
    "with respect to a vector $\\mathbf{x}$\n",
    "is vector-valued and has \n",
    "the same shape as $\\mathbf{x}$.\n"
   ]
  },
  {
   "cell_type": "code",
   "execution_count": 2,
   "id": "09cf4110",
   "metadata": {
    "attributes": {
     "classes": [],
     "id": "",
     "n": "9"
    },
    "execution": {
     "iopub.execute_input": "2022-12-14T05:08:30.879187Z",
     "iopub.status.busy": "2022-12-14T05:08:30.878608Z",
     "iopub.status.idle": "2022-12-14T05:08:30.882623Z",
     "shell.execute_reply": "2022-12-14T05:08:30.881869Z"
    },
    "origin_pos": 8,
    "tab": [
     "pytorch"
    ]
   },
   "outputs": [],
   "source": [
    "# Better create x = torch.arange(4.0, requires_grad=True)\n",
    "x.requires_grad_(True)\n",
    "x.grad  # The default value is None"
   ]
  },
  {
   "cell_type": "markdown",
   "id": "c8cad0bd",
   "metadata": {
    "origin_pos": 10
   },
   "source": [
    "(**We now calculate our function of `x` and assign the result to `y`.**)\n"
   ]
  },
  {
   "cell_type": "code",
   "execution_count": 7,
   "id": "d6be8ac4",
   "metadata": {
    "attributes": {
     "classes": [],
     "id": "",
     "n": "11"
    },
    "execution": {
     "iopub.execute_input": "2022-12-14T05:08:30.885786Z",
     "iopub.status.busy": "2022-12-14T05:08:30.885359Z",
     "iopub.status.idle": "2022-12-14T05:08:30.890937Z",
     "shell.execute_reply": "2022-12-14T05:08:30.890179Z"
    },
    "origin_pos": 12,
    "tab": [
     "pytorch"
    ]
   },
   "outputs": [
    {
     "data": {
      "text/plain": [
       "tensor(28., grad_fn=<MulBackward0>)"
      ]
     },
     "execution_count": 7,
     "metadata": {},
     "output_type": "execute_result"
    }
   ],
   "source": [
    "y = 2 * torch.dot(x, x)\n",
    "y"
   ]
  },
  {
   "cell_type": "markdown",
   "id": "0e4c2c46",
   "metadata": {
    "origin_pos": 16,
    "tab": [
     "pytorch"
    ]
   },
   "source": [
    "[**We can now take the gradient of `y`\n",
    "with respect to `x`**] by calling \n",
    "its `backward` method.\n",
    "Next, we can access the gradient \n",
    "via `x`'s `grad` attribute.\n"
   ]
  },
  {
   "cell_type": "code",
   "execution_count": 8,
   "id": "b6958845",
   "metadata": {
    "attributes": {
     "classes": [],
     "id": "",
     "n": "12"
    },
    "execution": {
     "iopub.execute_input": "2022-12-14T05:08:30.894111Z",
     "iopub.status.busy": "2022-12-14T05:08:30.893685Z",
     "iopub.status.idle": "2022-12-14T05:08:30.899440Z",
     "shell.execute_reply": "2022-12-14T05:08:30.898651Z"
    },
    "origin_pos": 20,
    "tab": [
     "pytorch"
    ]
   },
   "outputs": [
    {
     "data": {
      "text/plain": [
       "tensor([ 1.,  5.,  9., 13.])"
      ]
     },
     "execution_count": 8,
     "metadata": {},
     "output_type": "execute_result"
    }
   ],
   "source": [
    "y.backward()\n",
    "x.grad"
   ]
  },
  {
   "cell_type": "markdown",
   "id": "093ace60",
   "metadata": {
    "origin_pos": 23
   },
   "source": [
    "(**We already know that the gradient of the function $y = 2\\mathbf{x}^{\\top}\\mathbf{x}$\n",
    "with respect to $\\mathbf{x}$ should be $4\\mathbf{x}$.**)\n",
    "We can now verify that the automatic gradient computation\n",
    "and the expected result are identical.\n"
   ]
  },
  {
   "cell_type": "code",
   "execution_count": 5,
   "id": "89ee446a",
   "metadata": {
    "attributes": {
     "classes": [],
     "id": "",
     "n": "14"
    },
    "execution": {
     "iopub.execute_input": "2022-12-14T05:08:30.902584Z",
     "iopub.status.busy": "2022-12-14T05:08:30.902153Z",
     "iopub.status.idle": "2022-12-14T05:08:30.907545Z",
     "shell.execute_reply": "2022-12-14T05:08:30.906811Z"
    },
    "origin_pos": 25,
    "tab": [
     "pytorch"
    ]
   },
   "outputs": [
    {
     "data": {
      "text/plain": [
       "tensor([True, True, True, True])"
      ]
     },
     "execution_count": 5,
     "metadata": {},
     "output_type": "execute_result"
    }
   ],
   "source": [
    "x.grad == 4 * x"
   ]
  },
  {
   "cell_type": "markdown",
   "id": "251cd267",
   "metadata": {
    "origin_pos": 29,
    "tab": [
     "pytorch"
    ]
   },
   "source": [
    "[**Now let's calculate \n",
    "another function of `x`\n",
    "and take its gradient.**]\n",
    "Note that PyTorch does not automatically \n",
    "reset the gradient buffer \n",
    "when we record a new gradient. \n",
    "Instead the new gradient \n",
    "is added to the already stored gradient.\n",
    "This behavior comes in handy\n",
    "when we want to optimize the sum \n",
    "of multiple objective functions.\n",
    "To reset the gradient buffer,\n",
    "we can call `x.grad.zero()` as follows:\n"
   ]
  },
  {
   "cell_type": "code",
   "execution_count": 6,
   "id": "d6b6f690",
   "metadata": {
    "attributes": {
     "classes": [],
     "id": "",
     "n": "20"
    },
    "execution": {
     "iopub.execute_input": "2022-12-14T05:08:30.910702Z",
     "iopub.status.busy": "2022-12-14T05:08:30.910257Z",
     "iopub.status.idle": "2022-12-14T05:08:30.916401Z",
     "shell.execute_reply": "2022-12-14T05:08:30.915659Z"
    },
    "origin_pos": 32,
    "tab": [
     "pytorch"
    ]
   },
   "outputs": [
    {
     "data": {
      "text/plain": [
       "tensor([1., 1., 1., 1.])"
      ]
     },
     "execution_count": 6,
     "metadata": {},
     "output_type": "execute_result"
    }
   ],
   "source": [
    "x.grad.zero_()  # Reset the gradient\n",
    "y = x.sum()\n",
    "y.backward()\n",
    "x.grad"
   ]
  },
  {
   "cell_type": "markdown",
   "id": "60be5393",
   "metadata": {
    "origin_pos": 35
   },
   "source": [
    "## Backward for Non-Scalar Variables\n",
    "\n",
    "When `y` is a vector, \n",
    "the most natural interpretation \n",
    "of the derivative of  `y`\n",
    "with respect to a vector `x` \n",
    "is a matrix called the *Jacobian*\n",
    "that contains the partial derivatives\n",
    "of each component of `y` \n",
    "with respect to each component of `x`.\n",
    "Likewise, for higher-order `y` and `x`,\n",
    "the differentiation result could be an even higher-order tensor.\n",
    "\n",
    "While Jacobians do show up in some\n",
    "advanced machine learning techniques,\n",
    "more commonly we want to sum up \n",
    "the gradients of each component of `y`\n",
    "with respect to the full vector `x`,\n",
    "yielding a vector of the same shape as `x`.\n",
    "For example, we often have a vector \n",
    "representing the value of our loss function\n",
    "calculated separately for each among\n",
    "a *batch* of training examples.\n",
    "Here, we just want to (**sum up the gradients\n",
    "computed individually for each example**).\n"
   ]
  },
  {
   "cell_type": "markdown",
   "id": "93616142",
   "metadata": {
    "origin_pos": 37,
    "tab": [
     "pytorch"
    ]
   },
   "source": [
    "Because deep learning frameworks vary \n",
    "in how they interpret gradients of\n",
    "non-scalar tensors,\n",
    "PyTorch takes some steps to avoid confusion.\n",
    "Invoking `backward` on a non-scalar elicits an error \n",
    "unless we tell PyTorch how to reduce the object to a scalar. \n",
    "More formally, we need to provide some vector $\\mathbf{v}$ \n",
    "such that `backward` will compute \n",
    "$\\mathbf{v}^\\top \\partial_{\\mathbf{x}} \\mathbf{y}$ \n",
    "rather than $\\partial_{\\mathbf{x}} \\mathbf{y}$. \n",
    "This next part may be confusing,\n",
    "but for reasons that will become clear later, \n",
    "this argument (representing $\\mathbf{v}$) is named `gradient`. \n",
    "For a more detailed description, see Yang Zhang's \n",
    "[Medium post](https://zhang-yang.medium.com/the-gradient-argument-in-pytorchs-backward-function-explained-by-examples-68f266950c29).\n"
   ]
  },
  {
   "cell_type": "code",
   "execution_count": 9,
   "id": "3419759f",
   "metadata": {
    "execution": {
     "iopub.execute_input": "2022-12-14T05:08:30.919746Z",
     "iopub.status.busy": "2022-12-14T05:08:30.919231Z",
     "iopub.status.idle": "2022-12-14T05:08:30.925367Z",
     "shell.execute_reply": "2022-12-14T05:08:30.924632Z"
    },
    "origin_pos": 40,
    "tab": [
     "pytorch"
    ]
   },
   "outputs": [
    {
     "data": {
      "text/plain": [
       "tensor([0., 2., 4., 6.])"
      ]
     },
     "execution_count": 9,
     "metadata": {},
     "output_type": "execute_result"
    }
   ],
   "source": [
    "x.grad.zero_()\n",
    "y = x * x\n",
    "y.backward(gradient=torch.ones(len(y)))  # Faster: y.sum().backward()\n",
    "x.grad"
   ]
  },
  {
   "cell_type": "markdown",
   "id": "28ac5431",
   "metadata": {
    "origin_pos": 43
   },
   "source": [
    "## Detaching Computation\n",
    "\n",
    "Sometimes, we wish to [**move some calculations\n",
    "outside of the recorded computational graph.**]\n",
    "For example, say that we use the input \n",
    "to create some auxiliary intermediate terms \n",
    "for which we do not want to compute a gradient. \n",
    "In this case, we need to *detach* \n",
    "the respective computational influence graph \n",
    "from the final result. \n",
    "The following toy example makes this clearer: \n",
    "suppose we have `z = x * y` and `y = x * x` \n",
    "but we want to focus on the *direct* influence of `x` on `z` \n",
    "rather than the influence conveyed via `y`. \n",
    "In this case, we can create a new variable `u`\n",
    "that takes the same value as `y` \n",
    "but whose *provenance* (how it was created)\n",
    "has been wiped out.\n",
    "Thus `u` has no ancestors in the graph\n",
    "and gradients to not flow through `u` to `x`.\n",
    "For example, taking the gradient of `z = x * u`\n",
    "will yield the result `x`,\n",
    "(not `3 * x * x` as you might have \n",
    "expected since `z = x * x * x`).\n"
   ]
  },
  {
   "cell_type": "code",
   "execution_count": 8,
   "id": "e78ffe66",
   "metadata": {
    "attributes": {
     "classes": [],
     "id": "",
     "n": "21"
    },
    "execution": {
     "iopub.execute_input": "2022-12-14T05:08:30.928905Z",
     "iopub.status.busy": "2022-12-14T05:08:30.928258Z",
     "iopub.status.idle": "2022-12-14T05:08:30.934689Z",
     "shell.execute_reply": "2022-12-14T05:08:30.933944Z"
    },
    "origin_pos": 45,
    "tab": [
     "pytorch"
    ]
   },
   "outputs": [
    {
     "data": {
      "text/plain": [
       "tensor([True, True, True, True])"
      ]
     },
     "execution_count": 8,
     "metadata": {},
     "output_type": "execute_result"
    }
   ],
   "source": [
    "x.grad.zero_()\n",
    "y = x * x\n",
    "u = y.detach()\n",
    "z = u * x\n",
    "\n",
    "z.sum().backward()\n",
    "x.grad == u"
   ]
  },
  {
   "cell_type": "markdown",
   "id": "d4e97452",
   "metadata": {
    "origin_pos": 48
   },
   "source": [
    "Note that while this procedure\n",
    "detaches `y`'s ancestors\n",
    "from the graph leading to `z`, \n",
    "the computational graph leading to `y` \n",
    "persists and thus we can calculate\n",
    "the gradient of `y` with respect to `x`.\n"
   ]
  },
  {
   "cell_type": "code",
   "execution_count": 9,
   "id": "5ddc82b7",
   "metadata": {
    "execution": {
     "iopub.execute_input": "2022-12-14T05:08:30.937985Z",
     "iopub.status.busy": "2022-12-14T05:08:30.937356Z",
     "iopub.status.idle": "2022-12-14T05:08:30.943168Z",
     "shell.execute_reply": "2022-12-14T05:08:30.942404Z"
    },
    "origin_pos": 50,
    "tab": [
     "pytorch"
    ]
   },
   "outputs": [
    {
     "data": {
      "text/plain": [
       "tensor([True, True, True, True])"
      ]
     },
     "execution_count": 9,
     "metadata": {},
     "output_type": "execute_result"
    }
   ],
   "source": [
    "x.grad.zero_()\n",
    "y.sum().backward()\n",
    "x.grad == 2 * x"
   ]
  },
  {
   "cell_type": "markdown",
   "id": "434c3483",
   "metadata": {
    "origin_pos": 53
   },
   "source": [
    "## Gradients and Python Control Flow\n",
    "\n",
    "So far we reviewed cases where the path from input to output \n",
    "was well-defined via a function such as `z = x * x * x`.\n",
    "Programming offers us a lot more freedom in how we compute results. \n",
    "For instance, we can make them depend on auxiliary variables \n",
    "or condition choices on intermediate results. \n",
    "One benefit of using automatic differentiation\n",
    "is that [**even if**] building the computational graph of \n",
    "(**a function required passing through a maze of Python control flow**)\n",
    "(e.g., conditionals, loops, and arbitrary function calls),\n",
    "(**we can still calculate the gradient of the resulting variable.**)\n",
    "To illustrate this, consider the following code snippet where \n",
    "the number of iterations of the `while` loop\n",
    "and the evaluation of the `if` statement\n",
    "both depend on the value of the input `a`.\n"
   ]
  },
  {
   "cell_type": "code",
   "execution_count": 10,
   "id": "ccdb9d19",
   "metadata": {
    "execution": {
     "iopub.execute_input": "2022-12-14T05:08:30.946557Z",
     "iopub.status.busy": "2022-12-14T05:08:30.945934Z",
     "iopub.status.idle": "2022-12-14T05:08:30.950370Z",
     "shell.execute_reply": "2022-12-14T05:08:30.949606Z"
    },
    "origin_pos": 55,
    "tab": [
     "pytorch"
    ]
   },
   "outputs": [],
   "source": [
    "def f(a):\n",
    "    b = a * 2\n",
    "    while b.norm() < 1000:\n",
    "        b = b * 2\n",
    "    if b.sum() > 0:\n",
    "        c = b\n",
    "    else:\n",
    "        c = 100 * b\n",
    "    return c"
   ]
  },
  {
   "cell_type": "markdown",
   "id": "b03fa7a7",
   "metadata": {
    "origin_pos": 58
   },
   "source": [
    "Below, we call this function, passing in a random value as input.\n",
    "Since the input is a random variable, \n",
    "we do not know what form \n",
    "the computational graph will take.\n",
    "However, whenever we execute `f(a)` \n",
    "on a specific input, we realize \n",
    "a specific computational graph\n",
    "and can subsequently run `backward`.\n"
   ]
  },
  {
   "cell_type": "code",
   "execution_count": 27,
   "id": "404cf7ff",
   "metadata": {
    "execution": {
     "iopub.execute_input": "2022-12-14T05:08:30.953662Z",
     "iopub.status.busy": "2022-12-14T05:08:30.953030Z",
     "iopub.status.idle": "2022-12-14T05:08:30.958100Z",
     "shell.execute_reply": "2022-12-14T05:08:30.957350Z"
    },
    "origin_pos": 60,
    "tab": [
     "pytorch"
    ]
   },
   "outputs": [],
   "source": [
    "a = torch.randn(size=(2, 2), requires_grad=True)\n",
    "d = f(a)\n",
    "d.backward(gradient=torch.ones((2, 2)))"
   ]
  },
  {
   "cell_type": "markdown",
   "id": "070b97a4",
   "metadata": {
    "origin_pos": 63
   },
   "source": [
    "Even though our function `f` is a bit \n",
    "contrived for demonstration purposes,\n",
    "its dependence on the input is quite simple: \n",
    "it is a *linear* function of `a` \n",
    "with piecewise defined scale. \n",
    "As such, `f(a) / a` is a vector of constant entries \n",
    "and, moreover, `f(a) / a` needs to match \n",
    "the gradient of `f(a)` with respect to `a`.\n"
   ]
  },
  {
   "cell_type": "code",
   "execution_count": 13,
   "id": "a83c4cbf",
   "metadata": {
    "execution": {
     "iopub.execute_input": "2022-12-14T05:08:30.961418Z",
     "iopub.status.busy": "2022-12-14T05:08:30.960770Z",
     "iopub.status.idle": "2022-12-14T05:08:30.966039Z",
     "shell.execute_reply": "2022-12-14T05:08:30.965291Z"
    },
    "origin_pos": 65,
    "tab": [
     "pytorch"
    ]
   },
   "outputs": [
    {
     "data": {
      "text/plain": [
       "tensor(True)"
      ]
     },
     "execution_count": 13,
     "metadata": {},
     "output_type": "execute_result"
    }
   ],
   "source": [
    "a.grad == d / a"
   ]
  },
  {
   "cell_type": "markdown",
   "id": "c3782e5b",
   "metadata": {
    "origin_pos": 68
   },
   "source": [
    "Dynamic control flow is very common in deep learning. \n",
    "For instance, when processing text, the computational graph\n",
    "depends on the length of the input. \n",
    "In these cases, automatic differentiation \n",
    "becomes vital for statistical modeling \n",
    "since it is impossible to compute the gradient a priori. \n",
    "\n",
    "## Discussion\n",
    "\n",
    "You've now gotten a taste of the power of automatic differentiation. \n",
    "The development of libraries for calculating derivatives\n",
    "both automatically and efficiently \n",
    "has been a massive productivity booster\n",
    "for deep learning practitioners,\n",
    "liberating them to focus on loftier concerns.\n",
    "Moreover, autograd permits us to design massive models\n",
    "for which pen and paper gradient computations \n",
    "would be prohibitively time consuming.\n",
    "Interestingly, while we use autograd to *optimize* models\n",
    "(in a statistical sense)\n",
    "the *optimization* of autograd libraries themselves\n",
    "(in a computational sense)\n",
    "is a rich subject\n",
    "of vital interest to framework designers.\n",
    "Here, tools from compilers and graph manipulation \n",
    "are leveraged to compute results \n",
    "in the most expedient and memory-efficient manner. \n",
    "\n",
    "For now, try to remember these basics: (i) attach gradients to those variables with respect to which we desire derivatives; (ii) record the computation of the target value; (iii) execute the backpropagation function; and  (iv) access the resulting gradient.\n",
    "\n",
    "\n",
    "## Exercises\n",
    "\n",
    "1. Why is the second derivative much more expensive to compute than the first derivative?\n",
    "1. After running the function for backpropagation, immediately run it again and see what happens. Why?\n",
    "1. In the control flow example where we calculate the derivative of `d` with respect to `a`, what would happen if we changed the variable `a` to a random vector or a matrix? At this point, the result of the calculation `f(a)` is no longer a scalar. What happens to the result? How do we analyze this?\n",
    "1. Let $f(x) = \\sin(x)$. Plot the graph of $f$ and of its derivative $f'$. Do not exploit the fact that $f'(x) = \\cos(x)$ but rather use automatic differentiation to get the result. \n",
    "1. Let $f(x) = ((\\log x^2) \\cdot \\sin x) + x^{-1}$. Write out a dependency graph tracing results from $x$ to $f(x)$. \n",
    "1. Use the chain rule to compute the derivative $\\frac{df}{dx}$ of the aforementioned function, placing each term on the dependency graph that you constructed previously. \n",
    "1. Given the graph and the intermediate derivative results, you have a number of options when computing the gradient. Evaluate the result once starting from $x$ to $f$ and once from $f$ tracing back to $x$. The path from $x$ to $f$ is commonly known as *forward differentiation*, whereas the path from $f$ to $x$ is known as backward differentiation. \n",
    "1. When might you want to use forward differentiation and when backward differentiation? Hint: consider the amount of intermediate data needed, the ability to parallelize steps, and the size of matrices and vectors involved.\n"
   ]
  },
  {
   "cell_type": "code",
   "execution_count": 32,
   "id": "bcd7b5c1",
   "metadata": {},
   "outputs": [],
   "source": [
    "### Exercise 4\n",
    "x = torch.arange(-5, 5, 0.01, requires_grad=True)\n",
    "d = torch.sin(x)"
   ]
  },
  {
   "cell_type": "code",
   "execution_count": 34,
   "id": "ea18cd6b",
   "metadata": {},
   "outputs": [],
   "source": [
    "d.backward(torch.ones_like(x))"
   ]
  },
  {
   "cell_type": "code",
   "execution_count": 41,
   "id": "34a542f6",
   "metadata": {},
   "outputs": [
    {
     "data": {
      "image/png": "[encoded data removed]",
      "text/plain": [
       "<Figure size 640x480 with 1 Axes>"
      ]
     },
     "metadata": {},
     "output_type": "display_data"
    }
   ],
   "source": [
    "import matplotlib.pyplot as plt\n",
    "plt.plot(x.detach().numpy(), x.grad.detach().numpy(), label=\"cos\")\n",
    "plt.plot(x.detach().numpy(), d.detach().numpy(), label=\"sin\")\n",
    "plt.legend()\n",
    "plt.show()"
   ]
  },
  {
   "cell_type": "markdown",
   "id": "5f2a8acc",
   "metadata": {
    "origin_pos": 70,
    "tab": [
     "pytorch"
    ]
   },
   "source": [
    "[Discussions](https://discuss.d2l.ai/t/35)\n"
   ]
  }
 ],
 "metadata": {
  "kernelspec": {
   "display_name": ".venv",
   "language": "python",
   "name": "python3"
  },
  "language_info": {
   "codemirror_mode": {
    "name": "ipython",
    "version": 3
   },
   "file_extension": ".py",
   "mimetype": "text/x-python",
   "name": "python",
   "nbconvert_exporter": "python",
   "pygments_lexer": "ipython3",
   "version": "3.10.6 (main, Aug 10 2022, 11:40:04) [GCC 11.3.0]"
  },
  "vscode": {
   "interpreter": {
    "hash": "5e0350d5c02441d165afe117ccd2c406fdd535a6903c8430ce52a9f404dfa4eb"
   }
  }
 },
 "nbformat": 4,
 "nbformat_minor": 5
}
