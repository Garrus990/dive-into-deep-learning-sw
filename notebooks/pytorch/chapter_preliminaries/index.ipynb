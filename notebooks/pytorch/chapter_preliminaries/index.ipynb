{
 "cells": [
  {
   "cell_type": "markdown",
   "id": "c159fc13",
   "metadata": {
    "origin_pos": 0
   },
   "source": [
    "#  Preliminaries\n",
    ":label:`chap_preliminaries`\n",
    "\n",
    "To prepare for your dive into deep learning,\n",
    "you will need a few survival skills:\n",
    "(i) techniques for storing and manipulating data;\n",
    "(ii) libraries for ingesting \n",
    "and preprocessing data from a variety of sources;\n",
    "(iii) knowledge of the basic linear algebraic operations\n",
    "that we apply to high-dimensional data elements;\n",
    "(iv) just enough calculus to determine\n",
    "which direction to adjust each parameter\n",
    "in order to decrease the loss function;\n",
    "(v) the ability to automatically compute derivatives\n",
    "so that you can forget much of \n",
    "the calculus you just learned;\n",
    "(vi) some basic fluency in probability,\n",
    "our primary language for reasoning under uncertainty;\n",
    "and (vii) some aptitude for finding answers \n",
    "in the official documentation when you get stuck.\n",
    "\n",
    "In short, this chapter provides a rapid introduction \n",
    "to the basics that you will need to follow \n",
    "*most* of the technical content in this book.\n",
    "\n",
    ":begin_tab:toc\n",
    " - [ndarray](ndarray.ipynb)\n",
    " - [pandas](pandas.ipynb)\n",
    " - [linear-algebra](linear-algebra.ipynb)\n",
    " - [calculus](calculus.ipynb)\n",
    " - [autograd](autograd.ipynb)\n",
    " - [probability](probability.ipynb)\n",
    " - [lookup-api](lookup-api.ipynb)\n",
    ":end_tab:\n"
   ]
  }
 ],
 "metadata": {
  "kernelspec": {
   "display_name": "Python 3",
   "language": "python",
   "name": "python3"
  },
  "language_info": {
   "name": "python",
   "version": "3.10.6 (main, Aug 10 2022, 11:40:04) [GCC 11.3.0]"
  },
  "vscode": {
   "interpreter": {
    "hash": "916dbcbb3f70747c44a77c7bcd40155683ae19c65e1c03b4aa3499c5328201f1"
   }
  }
 },
 "nbformat": 4,
 "nbformat_minor": 5
}
